{
 "cells": [
  {
   "cell_type": "code",
   "execution_count": 22,
   "id": "3ec48c6c-f6c5-4f16-bb94-434979457101",
   "metadata": {},
   "outputs": [],
   "source": [
    "# Base Libraries\n",
    "import matplotlib.pyplot as plt  \n",
    "import numpy as np\n",
    "import os\n",
    "import pandas as pd\n",
    "import seaborn as sns\n",
    "# Transformation\n",
    "from sklearn import preprocessing\n",
    "# Models\n",
    "from scipy.stats import skew\n",
    "from scipy.stats import kurtosis\n",
    "from sklearn import neighbors\n",
    "from sklearn.ensemble import RandomForestRegressor\n",
    "from sklearn.ensemble import StackingRegressor\n",
    "from sklearn.model_selection import GridSearchCV\n",
    "from sklearn.model_selection import train_test_split\n",
    "from sklearn.neighbors import KNeighborsClassifier\n",
    "# Metrics\n",
    "from sklearn.metrics import explained_variance_score\n",
    "from sklearn.metrics import max_error\n",
    "from sklearn.metrics import mean_absolute_percentage_error\n",
    "from sklearn.metrics import mean_squared_error\n",
    "from sklearn.metrics import mean_squared_log_error\n",
    "from sklearn.metrics import r2_score\n",
    "\n",
    "import pandas as pd\n",
    "\n",
    "# Specify the full file path to your CSV file on your local machine\n",
    "file_path = r\"E:\\core prohect -spic\\project\\project code\\Book14.csv\"\n",
    "\n",
    "# Read the CSV file into a pandas DataFrame\n",
    "df = pd.read_csv(file_path, sep=',')\n",
    "\n",
    "# Set the display format for floating-point numbers in the DataFrame\n",
    "pd.options.display.float_format = '{:.4f}'.format\n",
    "\n",
    "df[\"Is Daylight\"] = df[\"Is Daylight\"].astype(int)\n",
    "\n",
    "\n",
    "df = df.drop(columns = [\"Day of Year\"])\n",
    "df = df.drop(columns = [\"Month\"])\n",
    "df = df.drop(columns = [\"Day\"])\n",
    "df = df.drop(columns = [\"Visibility\"])\n",
    "df = df.drop(columns = [\"Average Barometric Pressure (Period)\"])\n",
    "df.fillna(0, inplace=True)\n",
    "df.isnull().sum()\n",
    "df.isna().sum()\n",
    "\n",
    "subdata = df.groupby('Year').sum()['Power Generated']\n",
    "\n",
    "scaler = preprocessing.MinMaxScaler()\n",
    "\n",
    "df[['Power Generated',\n",
    "    'Average Temperature (Day)',\n",
    "    'Average Wind Speed (Day)',\n",
    "    'Relative Humidity',\n",
    "    'Average Wind Speed (Period)',\n",
    "    'Average Wind Direction (Day)'\n",
    "   ]] = scaler.fit_transform(df[['Power Generated',\n",
    "                                 'Average Temperature (Day)',\n",
    "                                 'Average Wind Speed (Day)',\n",
    "                                 'Relative Humidity',\n",
    "                                 'Average Wind Speed (Period)',\n",
    "                                 'Average Wind Direction (Day)'\n",
    "                                ]])\n",
    "\n",
    "\n",
    "df.head(10)\n",
    "X = df.iloc[:,0:10]\n",
    "y = df.iloc[:,10]\n",
    "X.head(10)\n",
    "y.head()\n",
    "\n",
    "X_train, X_test, y_train, y_test = train_test_split(X,y, test_size=0.3, random_state=0)\n",
    "\n",
    "rmsle_val = []\n",
    "best_rmsle = 1.0\n"
   ]
  },
  {
   "cell_type": "code",
   "execution_count": 23,
   "id": "3f7525ec-041c-4301-b2c8-9e6125767c8e",
   "metadata": {},
   "outputs": [
    {
     "name": "stdout",
     "output_type": "stream",
     "text": [
      "R-squared score using XGBoost:  0.9050511109266843\n"
     ]
    }
   ],
   "source": [
    "# Importing necessary libraries\n",
    "import xgboost as xgb\n",
    "from sklearn.metrics import r2_score\n",
    "\n",
    "# Creating an XGBoost regressor\n",
    "xg_reg = xgb.XGBRegressor(objective ='reg:squarederror', n_estimators = 100, seed = 0)\n",
    "\n",
    "# Fitting the model with training data\n",
    "xg_reg.fit(X_train, y_train)\n",
    "\n",
    "# Predicting on the test set\n",
    "y_pred_xg = xg_reg.predict(X_test)\n",
    "\n",
    "# Calculating R-squared score\n",
    "r2_score_xg = r2_score(y_test, y_pred_xg)\n",
    "\n",
    "# Printing the R-squared score\n",
    "print(\"R-squared score using XGBoost: \", r2_score_xg)\n"
   ]
  },
  {
   "cell_type": "code",
   "execution_count": 24,
   "id": "da86b19d-67b9-4436-b738-f8978b4a39b8",
   "metadata": {},
   "outputs": [
    {
     "name": "stdout",
     "output_type": "stream",
     "text": [
      "R-squared score using KNN:  0.8885733591494972\n"
     ]
    }
   ],
   "source": [
    "# Importing necessary libraries\n",
    "from sklearn.neighbors import KNeighborsRegressor\n",
    "from sklearn.metrics import r2_score\n",
    "\n",
    "# Creating a KNN regressor (specify the number of neighbors, for example, 5)\n",
    "knn_reg = KNeighborsRegressor(n_neighbors=3)\n",
    "\n",
    "# Fitting the model with training data\n",
    "knn_reg.fit(X_train, y_train)\n",
    "\n",
    "# Predicting on the test set\n",
    "y_pred_knn = knn_reg.predict(X_test)\n",
    "\n",
    "# Calculating R-squared score\n",
    "r2_score_knn = r2_score(y_test, y_pred_knn)\n",
    "\n",
    "# Printing the R-squared score\n",
    "print(\"R-squared score using KNN: \", r2_score_knn)"
   ]
  }
 ],
 "metadata": {
  "kernelspec": {
   "display_name": "Python 3 (ipykernel)",
   "language": "python",
   "name": "python3"
  },
  "language_info": {
   "codemirror_mode": {
    "name": "ipython",
    "version": 3
   },
   "file_extension": ".py",
   "mimetype": "text/x-python",
   "name": "python",
   "nbconvert_exporter": "python",
   "pygments_lexer": "ipython3",
   "version": "3.11.4"
  }
 },
 "nbformat": 4,
 "nbformat_minor": 5
}
